{
 "cells": [
  {
   "cell_type": "code",
   "execution_count": 3,
   "id": "a1bcc86d",
   "metadata": {},
   "outputs": [],
   "source": [
    "import mlflow\n",
    "mlflow.set_tracking_uri(\"sqlite:///mlflow.db\")"
   ]
  },
  {
   "cell_type": "code",
   "execution_count": 4,
   "id": "9c27e3f0",
   "metadata": {},
   "outputs": [
    {
     "name": "stderr",
     "output_type": "stream",
     "text": [
      "2025/01/26 20:34:50 INFO mlflow.tracking.fluent: Experiment with name 'new-exp' does not exist. Creating a new experiment.\n"
     ]
    },
    {
     "data": {
      "text/plain": [
       "<Experiment: artifact_location='/workspaces/mlops-zoomcamp/02-experiment-tracking/homework/mlruns/2', creation_time=1737923690757, experiment_id='2', last_update_time=1737923690757, lifecycle_stage='active', name='new-exp', tags={}>"
      ]
     },
     "execution_count": 4,
     "metadata": {},
     "output_type": "execute_result"
    }
   ],
   "source": [
    "mlflow.set_experiment(\"new-exp\")"
   ]
  },
  {
   "cell_type": "code",
   "execution_count": 9,
   "id": "b17ad1ce",
   "metadata": {},
   "outputs": [
    {
     "name": "stdout",
     "output_type": "stream",
     "text": [
      "/home/codespace/anaconda3/lib/python3.9/site-packages/pandas/core/computation/expressions.py:21: UserWarning: Pandas requires version '2.8.4' or newer of 'numexpr' (version '2.8.1' currently installed).\n",
      "  from pandas.core.computation.check import NUMEXPR_INSTALLED\n",
      "/home/codespace/anaconda3/lib/python3.9/site-packages/pandas/core/arrays/masked.py:60: UserWarning: Pandas requires version '1.3.6' or newer of 'bottleneck' (version '1.3.4' currently installed).\n",
      "  from pandas.core import (\n",
      "2025/01/26 20:45:12 WARNING mlflow.sklearn: Failed to log training dataset information to MLflow Tracking. Reason: 'numpy.ndarray' object has no attribute 'toarray'\n",
      "2025/01/26 20:45:31 WARNING mlflow.utils.environment: Encountered an unexpected error while inferring pip requirements (model URI: /tmp/tmp9lt_l_i9/model/model.pkl, flavor: sklearn). Fall back to return ['scikit-learn==1.0.2', 'cloudpickle==2.0.0']. Set logging level to DEBUG to see the full traceback. \n"
     ]
    }
   ],
   "source": [
    "!python train.py"
   ]
  },
  {
   "cell_type": "code",
   "execution_count": 13,
   "id": "0c9c09ed",
   "metadata": {},
   "outputs": [
    {
     "name": "stdout",
     "output_type": "stream",
     "text": [
      "/home/codespace/anaconda3/lib/python3.9/site-packages/pandas/core/computation/expressions.py:21: UserWarning: Pandas requires version '2.8.4' or newer of 'numexpr' (version '2.8.1' currently installed).\n",
      "  from pandas.core.computation.check import NUMEXPR_INSTALLED\n",
      "/home/codespace/anaconda3/lib/python3.9/site-packages/pandas/core/arrays/masked.py:60: UserWarning: Pandas requires version '1.3.6' or newer of 'bottleneck' (version '1.3.4' currently installed).\n",
      "  from pandas.core import (\n",
      "🏃 View run lyrical-frog-840 at: http://127.0.0.1:5000/#/experiments/3/runs/ab5a8a09d42e48a284909079e12e0b1e\n",
      "\n",
      "🧪 View experiment at: http://127.0.0.1:5000/#/experiments/3                    \n",
      "\n",
      "🏃 View run magnificent-mole-506 at: http://127.0.0.1:5000/#/experiments/3/runs/88e748cca62747fbbfbf368f2569ffaf\n",
      "\n",
      "🧪 View experiment at: http://127.0.0.1:5000/#/experiments/3                    \n",
      "\n",
      "🏃 View run smiling-mink-845 at: http://127.0.0.1:5000/#/experiments/3/runs/d2d5cc35cd8c491ca34f336999dda85a\n",
      "\n",
      "🧪 View experiment at: http://127.0.0.1:5000/#/experiments/3                    \n",
      "\n",
      "🏃 View run thoughtful-seal-655 at: http://127.0.0.1:5000/#/experiments/3/runs/8a57a4d2783f483db8f14b0dbae62901\n",
      "\n",
      "🧪 View experiment at: http://127.0.0.1:5000/#/experiments/3                    \n",
      "\n",
      "🏃 View run melodic-snail-758 at: http://127.0.0.1:5000/#/experiments/3/runs/572d453b6f4147e1aa811ad320c99b31\n",
      "\n",
      "🧪 View experiment at: http://127.0.0.1:5000/#/experiments/3                    \n",
      "\n",
      "🏃 View run salty-slug-359 at: http://127.0.0.1:5000/#/experiments/3/runs/2acd8d71e92648b6a3da023a3f819210\n",
      "\n",
      "🧪 View experiment at: http://127.0.0.1:5000/#/experiments/3                    \n",
      "\n",
      "🏃 View run selective-bird-134 at: http://127.0.0.1:5000/#/experiments/3/runs/c5633d52c82d4e1a99e3404f2caf2d33\n",
      "\n",
      "🧪 View experiment at: http://127.0.0.1:5000/#/experiments/3                    \n",
      "\n",
      "🏃 View run spiffy-horse-489 at: http://127.0.0.1:5000/#/experiments/3/runs/571245363ced441aa6cf4ed7939bf4ad\n",
      "\n",
      "🧪 View experiment at: http://127.0.0.1:5000/#/experiments/3                    \n",
      "\n",
      "🏃 View run spiffy-crane-414 at: http://127.0.0.1:5000/#/experiments/3/runs/9e50b77e45dd41c496dfce13178bdb6b\n",
      "\n",
      "🧪 View experiment at: http://127.0.0.1:5000/#/experiments/3                    \n",
      "\n",
      "🏃 View run peaceful-foal-949 at: http://127.0.0.1:5000/#/experiments/3/runs/5f3084165a6c4a4f850b982074f3c306\n",
      "\n",
      "🧪 View experiment at: http://127.0.0.1:5000/#/experiments/3                    \n",
      "\n",
      "🏃 View run wistful-ram-807 at: http://127.0.0.1:5000/#/experiments/3/runs/462a9bd26ae84f2cbfb8a3e3c981fd30\n",
      "\n",
      "🧪 View experiment at: http://127.0.0.1:5000/#/experiments/3                    \n",
      "\n",
      "🏃 View run gifted-koi-938 at: http://127.0.0.1:5000/#/experiments/3/runs/05ce6d872459438c8ce8d8a3a4fe121d\n",
      "\n",
      "🧪 View experiment at: http://127.0.0.1:5000/#/experiments/3                    \n",
      "\n",
      "🏃 View run valuable-ray-480 at: http://127.0.0.1:5000/#/experiments/3/runs/6ba03850f2464da29eade6dfe350bdfe\n",
      "\n",
      "🧪 View experiment at: http://127.0.0.1:5000/#/experiments/3                    \n",
      "\n",
      "🏃 View run gaudy-mule-384 at: http://127.0.0.1:5000/#/experiments/3/runs/077c70339c12477590a49459d5d47a75\n",
      "\n",
      "🧪 View experiment at: http://127.0.0.1:5000/#/experiments/3                    \n",
      "\n",
      "🏃 View run clumsy-wasp-848 at: http://127.0.0.1:5000/#/experiments/3/runs/d9952495dc3543cda00a864ba343f449\n",
      "\n",
      "🧪 View experiment at: http://127.0.0.1:5000/#/experiments/3                    \n",
      "\n",
      "100%|██████████| 15/15 [00:54<00:00,  3.61s/trial, best loss: 5.335419588556921]\n"
     ]
    }
   ],
   "source": [
    "!python hpo.py"
   ]
  },
  {
   "cell_type": "code",
   "execution_count": 14,
   "id": "e49bd530",
   "metadata": {},
   "outputs": [
    {
     "name": "stdout",
     "output_type": "stream",
     "text": [
      "/home/codespace/anaconda3/lib/python3.9/site-packages/pandas/core/computation/expressions.py:21: UserWarning: Pandas requires version '2.8.4' or newer of 'numexpr' (version '2.8.1' currently installed).\n",
      "  from pandas.core.computation.check import NUMEXPR_INSTALLED\n",
      "/home/codespace/anaconda3/lib/python3.9/site-packages/pandas/core/arrays/masked.py:60: UserWarning: Pandas requires version '1.3.6' or newer of 'bottleneck' (version '1.3.4' currently installed).\n",
      "  from pandas.core import (\n",
      "2025/01/26 22:13:28 INFO mlflow.tracking.fluent: Experiment with name 'random-forest-best-models' does not exist. Creating a new experiment.\n",
      "2025/01/26 22:13:28 WARNING mlflow.sklearn: Failed to log training dataset information to MLflow Tracking. Reason: 'numpy.ndarray' object has no attribute 'toarray'\n",
      "2025/01/26 22:13:34 WARNING mlflow.utils.environment: Encountered an unexpected error while inferring pip requirements (model URI: /tmp/tmpz7eg1b2i/model/model.pkl, flavor: sklearn). Fall back to return ['scikit-learn==1.0.2', 'cloudpickle==2.0.0']. Set logging level to DEBUG to see the full traceback. \n",
      "🏃 View run overjoyed-fox-977 at: http://127.0.0.1:5000/#/experiments/4/runs/cb187cafc2b246459d531541350925d3\n",
      "🧪 View experiment at: http://127.0.0.1:5000/#/experiments/4\n",
      "2025/01/26 22:13:39 WARNING mlflow.sklearn: Failed to log training dataset information to MLflow Tracking. Reason: 'numpy.ndarray' object has no attribute 'toarray'\n",
      "2025/01/26 22:13:51 WARNING mlflow.utils.environment: Encountered an unexpected error while inferring pip requirements (model URI: /tmp/tmpu8f1ntuz/model/model.pkl, flavor: sklearn). Fall back to return ['scikit-learn==1.0.2', 'cloudpickle==2.0.0']. Set logging level to DEBUG to see the full traceback. \n",
      "🏃 View run luxuriant-skunk-545 at: http://127.0.0.1:5000/#/experiments/4/runs/25b3246354a5498e94c5ad0e3d79b2ef\n",
      "🧪 View experiment at: http://127.0.0.1:5000/#/experiments/4\n",
      "2025/01/26 22:13:54 WARNING mlflow.sklearn: Failed to log training dataset information to MLflow Tracking. Reason: 'numpy.ndarray' object has no attribute 'toarray'\n",
      "2025/01/26 22:14:01 WARNING mlflow.utils.environment: Encountered an unexpected error while inferring pip requirements (model URI: /tmp/tmp_p6l_pop/model/model.pkl, flavor: sklearn). Fall back to return ['scikit-learn==1.0.2', 'cloudpickle==2.0.0']. Set logging level to DEBUG to see the full traceback. \n",
      "🏃 View run upset-fly-318 at: http://127.0.0.1:5000/#/experiments/4/runs/c57fdf3dbedf4c5cb926655e694f3fad\n",
      "🧪 View experiment at: http://127.0.0.1:5000/#/experiments/4\n",
      "2025/01/26 22:14:04 WARNING mlflow.sklearn: Failed to log training dataset information to MLflow Tracking. Reason: 'numpy.ndarray' object has no attribute 'toarray'\n",
      "2025/01/26 22:14:12 WARNING mlflow.utils.environment: Encountered an unexpected error while inferring pip requirements (model URI: /tmp/tmp_aqhrqfr/model/model.pkl, flavor: sklearn). Fall back to return ['scikit-learn==1.0.2', 'cloudpickle==2.0.0']. Set logging level to DEBUG to see the full traceback. \n",
      "🏃 View run skittish-stork-850 at: http://127.0.0.1:5000/#/experiments/4/runs/6e09deec89404060bf813bde717ff88e\n",
      "🧪 View experiment at: http://127.0.0.1:5000/#/experiments/4\n",
      "2025/01/26 22:14:15 WARNING mlflow.sklearn: Failed to log training dataset information to MLflow Tracking. Reason: 'numpy.ndarray' object has no attribute 'toarray'\n",
      "2025/01/26 22:14:21 WARNING mlflow.utils.environment: Encountered an unexpected error while inferring pip requirements (model URI: /tmp/tmpe9rdfylw/model/model.pkl, flavor: sklearn). Fall back to return ['scikit-learn==1.0.2', 'cloudpickle==2.0.0']. Set logging level to DEBUG to see the full traceback. \n",
      "🏃 View run amusing-fox-470 at: http://127.0.0.1:5000/#/experiments/4/runs/bf0a367854b24ba2a574fc48f6244f98\n",
      "🧪 View experiment at: http://127.0.0.1:5000/#/experiments/4\n",
      "Successfully registered model 'nyc-taxi-progressor'.\n",
      "2025/01/26 22:14:24 INFO mlflow.store.model_registry.abstract_store: Waiting up to 300 seconds for model version to finish creation. Model name: nyc-taxi-progressor, version 1\n",
      "Created version '1' of model 'nyc-taxi-progressor'.\n"
     ]
    }
   ],
   "source": [
    "!python register_model.py"
   ]
  },
  {
   "cell_type": "code",
   "execution_count": null,
   "id": "f9c006f8",
   "metadata": {},
   "outputs": [],
   "source": []
  }
 ],
 "metadata": {
  "kernelspec": {
   "display_name": "Python 3 (ipykernel)",
   "language": "python",
   "name": "python3"
  },
  "language_info": {
   "codemirror_mode": {
    "name": "ipython",
    "version": 3
   },
   "file_extension": ".py",
   "mimetype": "text/x-python",
   "name": "python",
   "nbconvert_exporter": "python",
   "pygments_lexer": "ipython3",
   "version": "3.9.12"
  }
 },
 "nbformat": 4,
 "nbformat_minor": 5
}
